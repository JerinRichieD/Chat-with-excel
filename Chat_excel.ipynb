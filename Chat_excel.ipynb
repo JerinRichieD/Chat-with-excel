{
  "cells": [
    {
      "cell_type": "markdown",
      "source": [
        "Chat with Excel"
      ],
      "metadata": {
        "id": "PG4jESiocu5O"
      }
    },
    {
      "cell_type": "code",
      "source": [
        "import google.generativeai as genai\n",
        "import pandas as pd\n",
        "import time\n",
        "\n",
        "# Configure the API key\n",
        "genai.configure(api_key=\"***\")\n",
        "\n"
      ],
      "metadata": {
        "id": "VWtFSqLAPEAO"
      },
      "execution_count": 1,
      "outputs": []
    },
    {
      "cell_type": "code",
      "source": [
        "# Function to load and preview Excel data\n",
        "def load_excel_data(file_path):\n",
        "    # Load the Excel file into a DataFrame\n",
        "    data = pd.read_excel(file_path)\n",
        "    # Convert the entire DataFrame to a readable string format for the prompt\n",
        "    data_context = data.to_string(index=False)\n",
        "    return data_context\n",
        "\n",
        "# Function to send a request to the model\n",
        "def send_request(chat, context, question):\n",
        "    try:\n",
        "        # Combine context and question into a single prompt\n",
        "        prompt = f\"Here is the data:\\n\\n{context}\\n\\nQuestion: {question}\"\n",
        "        response = chat.send_message(prompt)\n",
        "        return response\n",
        "    except Exception as e:\n",
        "        print(\"Error occurred:\", e)\n",
        "        time.sleep(5)  # Wait before retrying\n",
        "        return None\n",
        "\n",
        "# Main function to load data, format it, preview it, and ask a query\n",
        "def ask_model_with_excel(file_path, question):\n",
        "    # Load Excel data, format it, and print a preview\n",
        "    data_context = load_excel_data(file_path)\n",
        "\n",
        "    # Start a chat with the model\n",
        "    model = genai.GenerativeModel(model_name=\"gemini-1.5-pro\")\n",
        "    chat = model.start_chat()\n",
        "\n",
        "    # Send the request with the data context and question\n",
        "    response = send_request(chat, data_context, question)\n",
        "\n",
        "    if response:\n",
        "        # Extract and print the answer from the model's response\n",
        "        answer = response.candidates[0].content.parts[0].text\n",
        "        print(\"\\nAnswer:\", answer)\n",
        "    else:\n",
        "        print(\"No response received.\")\n",
        "\n",
        "# Example usage\n",
        "file_path = \"/content/WorldsBestRestaurants.xlsx\"  # Replace with the path to your Excel file\n",
        "\n",
        "question = \"How many restaurants are in India?\"  # Example question\n",
        "ask_model_with_excel(file_path, question)"
      ],
      "metadata": {
        "colab": {
          "base_uri": "https://localhost:8080/",
          "height": 72
        },
        "id": "o8Z8niHVcGo_",
        "outputId": "8efd6cb2-993d-4b61-d34d-32ee0ad97f2f"
      },
      "execution_count": 3,
      "outputs": [
        {
          "output_type": "stream",
          "name": "stdout",
          "text": [
            "\n",
            "Answer: The data shows only one restaurant in India: Bukhara in New Delhi.\n",
            "\n"
          ]
        }
      ]
    }
  ],
  "metadata": {
    "colab": {
      "provenance": []
    },
    "kernelspec": {
      "display_name": "Python 3",
      "name": "python3"
    },
    "language_info": {
      "name": "python"
    }
  },
  "nbformat": 4,
  "nbformat_minor": 0
}